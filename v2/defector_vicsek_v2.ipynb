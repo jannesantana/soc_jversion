{
 "cells": [
  {
   "cell_type": "code",
   "execution_count": 1,
   "metadata": {},
   "outputs": [],
   "source": [
    "import matplotlib.pyplot as plt\n",
    "import numpy as np\n",
    "import matplotlib\n",
    "import pims\n",
    "import pandas as pd\n",
    "\n",
    "matplotlib.rcParams['mathtext.fontset'] = 'stix'\n",
    "matplotlib.rcParams['font.family'] = 'STIXGeneral'\n",
    "matplotlib.rcParams['font.size'] = 19\n",
    "\n",
    "# import matplotlib.pyplot as plt\n",
    "# from numba import njit\n",
    "\n",
    "import os\n",
    "import subprocess"
   ]
  },
  {
   "cell_type": "code",
   "execution_count": 2,
   "metadata": {},
   "outputs": [],
   "source": [
    "def read_dat_file(filename):\n",
    "    params = {}\n",
    "    \n",
    "    # Read the .dat file\n",
    "    with open(filename, 'r') as file:\n",
    "        for line in file:\n",
    "            key, value = line.split()\n",
    "            params[key] = value\n",
    "    \n",
    "    # Format the output string\n",
    "    output_string = (\n",
    "        f\"particle_positions_Dt_{params['Dt']}_Nparticles_{params['Nparticles']}_R_{params['R']}_T_{params['T']}_Vo_{params['Vo']}_aligstr_{params['aligstr']}_box_{params['box']}_cutoff_{params['cutoff']}_epsilon_{params['epsilon']}_eta_{params['eta']}_sigma_{params['sigma']}\"\n",
    "    )\n",
    "    \n",
    "    return output_string,params\n"
   ]
  },
  {
   "cell_type": "code",
   "execution_count": 3,
   "metadata": {},
   "outputs": [],
   "source": [
    "def read_dat_file_OP(filename):\n",
    "    params = {}\n",
    "    \n",
    "    # Read the .dat file\n",
    "    with open(filename, 'r') as file:\n",
    "        for line in file:\n",
    "            key, value = line.split()\n",
    "            params[key] = value\n",
    "    \n",
    "    # Format the output string\n",
    "    output_string = (\n",
    "        f\"squared_disp_Dt_{params['Dt']}_Nparticles_{params['Nparticles']}_R_{params['R']}_T_{params['T']}_Vo_{params['Vo']}_aligstr_{params['aligstr']}_box_{params['box']}_cutoff_{params['cutoff']}_epsilon_{params['epsilon']}_eta_{params['eta']}_sigma_{params['sigma']}\"\n",
    "    )\n",
    "    \n",
    "    return output_string"
   ]
  },
  {
   "cell_type": "code",
   "execution_count": 4,
   "metadata": {},
   "outputs": [],
   "source": [
    "\n",
    "def read_positions(filename,N):\n",
    "    data= np.loadtxt(filename)\n",
    "    X = data[:,0]\n",
    "    Y = data[:,1]\n",
    "    Theta = data[:,2]\n",
    "    Steps = len(X) //N \n",
    "    X = np.reshape(X,(Steps,N))\n",
    "    Y = np.reshape(Y,(Steps,N))\n",
    "    Theta = np.reshape(Theta,(Steps,N))\n",
    "    return X,Y,Theta\n"
   ]
  },
  {
   "cell_type": "code",
   "execution_count": 46,
   "metadata": {},
   "outputs": [
    {
     "data": {
      "text/plain": [
       "CompletedProcess(args='mv *Dt_0.1_Nparticles_300_R_1_T_9000_Vo_1_aligstr_1.1_box_20_cutoff_1_epsilon_0.1_eta_0.5_sigma_0.5.dat particle_positions_Dt_0.1_Nparticles_300_R_1_T_9000_Vo_1_aligstr_1.1_box_20_cutoff_1_epsilon_0.1_eta_0.5_sigma_0.5', returncode=0)"
      ]
     },
     "execution_count": 46,
     "metadata": {},
     "output_type": "execute_result"
    }
   ],
   "source": [
    "\n",
    "\n",
    "file_name,params = read_dat_file('params.dat')\n",
    "OP_str = read_dat_file_OP('params.dat')\n",
    "os.makedirs(file_name,exist_ok=True)\n",
    "# file_name = file_name+'.dat'\n",
    "# OP_str=OP_str+'.dat'\n",
    "N=int(params['Nparticles'])\n",
    "T = int(params['T'])\n",
    "\n",
    "command = f\"mv *{file_name[19:]}.dat {file_name}\"\n",
    "subprocess.run(command,shell=True)"
   ]
  },
  {
   "cell_type": "code",
   "execution_count": 44,
   "metadata": {},
   "outputs": [
    {
     "name": "stderr",
     "output_type": "stream",
     "text": [
      "ffmpeg version 4.4.2-0ubuntu0.22.04.1 Copyright (c) 2000-2021 the FFmpeg developers\n",
      "  built with gcc 11 (Ubuntu 11.2.0-19ubuntu1)\n",
      "  configuration: --prefix=/usr --extra-version=0ubuntu0.22.04.1 --toolchain=hardened --libdir=/usr/lib/x86_64-linux-gnu --incdir=/usr/include/x86_64-linux-gnu --arch=amd64 --enable-gpl --disable-stripping --enable-gnutls --enable-ladspa --enable-libaom --enable-libass --enable-libbluray --enable-libbs2b --enable-libcaca --enable-libcdio --enable-libcodec2 --enable-libdav1d --enable-libflite --enable-libfontconfig --enable-libfreetype --enable-libfribidi --enable-libgme --enable-libgsm --enable-libjack --enable-libmp3lame --enable-libmysofa --enable-libopenjpeg --enable-libopenmpt --enable-libopus --enable-libpulse --enable-librabbitmq --enable-librubberband --enable-libshine --enable-libsnappy --enable-libsoxr --enable-libspeex --enable-libsrt --enable-libssh --enable-libtheora --enable-libtwolame --enable-libvidstab --enable-libvorbis --enable-libvpx --enable-libwebp --enable-libx265 --enable-libxml2 --enable-libxvid --enable-libzimg --enable-libzmq --enable-libzvbi --enable-lv2 --enable-omx --enable-openal --enable-opencl --enable-opengl --enable-sdl2 --enable-pocketsphinx --enable-librsvg --enable-libmfx --enable-libdc1394 --enable-libdrm --enable-libiec61883 --enable-chromaprint --enable-frei0r --enable-libx264 --enable-shared\n",
      "  libavutil      56. 70.100 / 56. 70.100\n",
      "  libavcodec     58.134.100 / 58.134.100\n",
      "  libavformat    58. 76.100 / 58. 76.100\n",
      "  libavdevice    58. 13.100 / 58. 13.100\n",
      "  libavfilter     7.110.100 /  7.110.100\n",
      "  libswscale      5.  9.100 /  5.  9.100\n",
      "  libswresample   3.  9.100 /  3.  9.100\n",
      "  libpostproc    55.  9.100 / 55.  9.100\n",
      "Input #0, image2, from 'particle_positions_Dt_0.1_Nparticles_3000_R_1_T_9000_Vo_1_aligstr_1.1_box_20_cutoff_1_epsilon_0.1_eta_0.5_sigma_0.5/positions_%03d.png':\n",
      "  Duration: 00:00:12.00, start: 0.000000, bitrate: N/A\n",
      "  Stream #0:0: Video: png, rgba(pc), 1000x1000 [SAR 7874:7874 DAR 1:1], 25 fps, 25 tbr, 25 tbn, 25 tbc\n",
      "Stream mapping:\n",
      "  Stream #0:0 -> #0:0 (png (native) -> h264 (libx264))\n",
      "Press [q] to stop, [?] for help\n",
      "[libx264 @ 0x58d566afcac0] using SAR=1/1\n",
      "[libx264 @ 0x58d566afcac0] using cpu capabilities: MMX2 SSE2Fast SSSE3 SSE4.2 AVX FMA3 BMI2 AVX2\n",
      "[libx264 @ 0x58d566afcac0] profile High, level 3.2, 4:2:0, 8-bit\n",
      "[libx264 @ 0x58d566afcac0] 264 - core 163 r3060 5db6aa6 - H.264/MPEG-4 AVC codec - Copyleft 2003-2021 - http://www.videolan.org/x264.html - options: cabac=1 ref=3 deblock=1:0:0 analyse=0x3:0x113 me=hex subme=7 psy=1 psy_rd=1.00:0.00 mixed_ref=1 me_range=16 chroma_me=1 trellis=1 8x8dct=1 cqm=0 deadzone=21,11 fast_pskip=1 chroma_qp_offset=-2 threads=31 lookahead_threads=5 sliced_threads=0 nr=0 decimate=1 interlaced=0 bluray_compat=0 constrained_intra=0 bframes=3 b_pyramid=2 b_adapt=1 b_bias=0 direct=1 weightb=1 open_gop=0 weightp=2 keyint=250 keyint_min=15 scenecut=40 intra_refresh=0 rc_lookahead=40 rc=crf mbtree=1 crf=23.0 qcomp=0.60 qpmin=0 qpmax=69 qpstep=4 ip_ratio=1.40 aq=1:1.00\n",
      "Output #0, mp4, to 'particle_positions_Dt_0.1_Nparticles_3000_R_1_T_9000_Vo_1_aligstr_1.1_box_20_cutoff_1_epsilon_0.1_eta_0.5_sigma_0.5/movie_only_arrows.mp4':\n",
      "  Metadata:\n",
      "    encoder         : Lavf58.76.100\n",
      "  Stream #0:0: Video: h264 (avc1 / 0x31637661), yuv420p(tv, progressive), 1000x1000 [SAR 1:1 DAR 1:1], q=2-31, 15 fps, 15360 tbn\n",
      "    Metadata:\n",
      "      encoder         : Lavc58.134.100 libx264\n",
      "    Side data:\n",
      "      cpb: bitrate max/min/avg: 0/0/0 buffer size: 0 vbv_delay: N/A\n",
      "frame=  300 fps=213 q=-1.0 Lsize=   28325kB time=00:00:19.80 bitrate=11719.1kbits/s speed=  14x    \n",
      "video:28321kB audio:0kB subtitle:0kB other streams:0kB global headers:0kB muxing overhead: 0.015731%\n",
      "[libx264 @ 0x58d566afcac0] frame I:5     Avg QP:21.25  size:124217\n",
      "[libx264 @ 0x58d566afcac0] frame P:79    Avg QP:28.84  size:104736\n",
      "[libx264 @ 0x58d566afcac0] frame B:216   Avg QP:30.66  size: 93076\n",
      "[libx264 @ 0x58d566afcac0] consecutive B-frames:  3.7%  0.7%  1.0% 94.7%\n",
      "[libx264 @ 0x58d566afcac0] mb I  I16..4: 30.3%  6.5% 63.2%\n",
      "[libx264 @ 0x58d566afcac0] mb P  I16..4:  2.2%  3.0% 42.8%  P16..4:  5.2%  7.2%  8.5%  0.0%  0.0%    skip:31.0%\n",
      "[libx264 @ 0x58d566afcac0] mb B  I16..4:  1.6%  1.0% 23.5%  B16..8: 10.3% 13.4% 17.5%  direct: 1.7%  skip:30.9%  L0:49.3% L1:42.3% BI: 8.4%\n",
      "[libx264 @ 0x58d566afcac0] 8x8 transform intra:4.8% inter:2.8%\n",
      "[libx264 @ 0x58d566afcac0] coded y,uvDC,uvAC intra: 69.6% 0.0% 0.0% inter: 28.5% 0.0% 0.0%\n",
      "[libx264 @ 0x58d566afcac0] i16 v,h,dc,p: 55% 28% 17%  0%\n",
      "[libx264 @ 0x58d566afcac0] i8 v,h,dc,ddl,ddr,vr,hd,vl,hu: 31% 15% 50%  1%  1%  1%  1%  0%  1%\n",
      "[libx264 @ 0x58d566afcac0] i4 v,h,dc,ddl,ddr,vr,hd,vl,hu: 30% 13% 21%  4%  9% 11%  6%  4%  3%\n",
      "[libx264 @ 0x58d566afcac0] i8c dc,h,v,p: 100%  0%  0%  0%\n",
      "[libx264 @ 0x58d566afcac0] Weighted P-Frames: Y:0.0% UV:0.0%\n",
      "[libx264 @ 0x58d566afcac0] ref P L0: 45.9%  7.2% 26.4% 20.5%\n",
      "[libx264 @ 0x58d566afcac0] ref B L0: 72.1% 20.7%  7.1%\n",
      "[libx264 @ 0x58d566afcac0] ref B L1: 86.4% 13.6%\n",
      "[libx264 @ 0x58d566afcac0] kb/s:11599.87\n"
     ]
    },
    {
     "data": {
      "text/plain": [
       "CompletedProcess(args=\"ffmpeg -r 15 -start_number 8700 -i 'particle_positions_Dt_0.1_Nparticles_3000_R_1_T_9000_Vo_1_aligstr_1.1_box_20_cutoff_1_epsilon_0.1_eta_0.5_sigma_0.5/positions_%03d.png' -pix_fmt yuv420p particle_positions_Dt_0.1_Nparticles_3000_R_1_T_9000_Vo_1_aligstr_1.1_box_20_cutoff_1_epsilon_0.1_eta_0.5_sigma_0.5/movie_only_arrows.mp4\", returncode=0)"
      ]
     },
     "execution_count": 44,
     "metadata": {},
     "output_type": "execute_result"
    }
   ],
   "source": [
    "\n",
    "# file_name = f'particle_positions_Dt_0.1_Nparticles_100_T_100_Vo_1_aligstr_0.5_box_80_cutoff_0.5_epsilon_0.5_eta_0.8_sigma_1'\n",
    "\n",
    "\n",
    "X,Y,Theta = read_positions(f'{file_name}/'+file_name+'.dat',N)\n",
    "fig, ax1 = plt.subplots(figsize=(5,5))  \n",
    "BOX_SIZE = float(params['box'])\n",
    "max_x = X.max()\n",
    "max_y = Y.max()\n",
    "scale = 0.9\n",
    "sigma =float(params['sigma'])*0.5\n",
    "# x,y = [], []\n",
    "for time in range(T-300,T):\n",
    "    ax1.clear()\n",
    "    Xnow = X[time]\n",
    "    Ynow = Y[time]\n",
    "    Thetanow=Theta[time]\n",
    "    # print(Thetanow)\n",
    "    # Xnext = X[time+1]\n",
    "    # Ynext = Y[time+1]\n",
    "    # Xp_now = Xp[time]\n",
    "    # Yp_now = Yp[time]\n",
    "    for posx, posy,angle in zip(Xnow, Ynow,Thetanow):\n",
    "        # lx= abs(-dx + posx)\n",
    "        # ly = abs(-dy + posy)\n",
    "        dx = np.cos(angle)*scale\n",
    "        dy = np.sin(angle)*scale\n",
    "        \n",
    "        ax1.arrow(posx, posy, dx, dy, head_width=1.5*sigma, head_length=sigma*1.5,color='black')\n",
    "        # ax1.add_patch(plt.Circle((posx, posy), radius=sigma, fill=True,color='red'))\n",
    "        \n",
    "        # if lx >= BOX_SIZE/2 or ly >= BOX_SIZE/2:\n",
    "        #     ax1.plot(posx,posy,lw=0,marker='o',ms=0.01)\n",
    "        # else:\n",
    "        #     ax1.plot(np.array([posx,dx]),np.array([posy,dy]))\n",
    "        \n",
    "        \n",
    "        ax1.set_title(f'time {time}',fontsize=12,loc='left')\n",
    "        \n",
    "    ax1.set_xlim(0,BOX_SIZE)\n",
    "    ax1.set_ylim(0,BOX_SIZE)\n",
    "    # ax1.set_xticks([0,BOX_SIZE//2, BOX_SIZE])\n",
    "    # ax1.set_yticks([0,BOX_SIZE//2, BOX_SIZE])\n",
    "    ax1.set_xticks([])\n",
    "    ax1.set_yticks([])\n",
    "    # ax1.set_xlabel(r'$x$')\n",
    "    \n",
    "    # ax1.set_ylabel(r'$y$')\n",
    "    # ax1.set_aspect('equal', adjustable='box')\n",
    "    plt.tight_layout()\n",
    "    plt.savefig(f\"{file_name}/positions_{time:03d}.png\",dpi=200)\n",
    "plt.close()\n",
    "\n",
    "\n",
    "command = f\"ffmpeg -r 15 -start_number {T-300} -i '{file_name}/positions_%03d.png' -pix_fmt yuv420p {file_name}/movie_only_arrows.mp4\"\n",
    "subprocess.run(command, shell=True)\n"
   ]
  },
  {
   "cell_type": "code",
   "execution_count": 47,
   "metadata": {},
   "outputs": [
    {
     "data": {
      "image/png": "[encoded data removed]",
      "text/plain": [
       "<Figure size 640x480 with 1 Axes>"
      ]
     },
     "metadata": {},
     "output_type": "display_data"
    }
   ],
   "source": [
    "\n",
    "# OP_str = read_dat_file_OP('params.dat')\n",
    "datamsd=np.loadtxt(f'{file_name}/'+OP_str+'.dat')\n",
    "time = datamsd[:,0]\n",
    "sq_p = datamsd[:,1]\n",
    "fig,ax = plt.subplots()\n",
    "\n",
    "ax.plot(time,sq_p, lw=1.1, color='red')\n",
    "ax.set_xlabel('time')\n",
    "ax.set_ylabel(r'$|\\overrightarrow{P}|$')\n",
    "# ax.legend()\n",
    "# ax.loglog()\n",
    "# ax.set_ylim((0,2.5))\n",
    "plt.savefig(f'{file_name}/OP_vs_time.png',dpi=200)\n",
    "plt.savefig(f'{file_name}/OP_vs_time.pdf',dpi=200)\n",
    "plt.show()"
   ]
  },
  {
   "cell_type": "code",
   "execution_count": null,
   "metadata": {},
   "outputs": [],
   "source": []
  }
 ],
 "metadata": {
  "kernelspec": {
   "display_name": "Python 3",
   "language": "python",
   "name": "python3"
  },
  "language_info": {
   "codemirror_mode": {
    "name": "ipython",
    "version": 3
   },
   "file_extension": ".py",
   "mimetype": "text/x-python",
   "name": "python",
   "nbconvert_exporter": "python",
   "pygments_lexer": "ipython3",
   "version": "3.10.12"
  }
 },
 "nbformat": 4,
 "nbformat_minor": 2
}
