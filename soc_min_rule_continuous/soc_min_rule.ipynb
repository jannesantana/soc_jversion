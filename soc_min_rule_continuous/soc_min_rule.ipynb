{
 "cells": [
  {
   "cell_type": "code",
   "execution_count": 12,
   "metadata": {},
   "outputs": [],
   "source": [
    "import matplotlib.pyplot as plt\n",
    "import numpy as np\n",
    "import matplotlib\n",
    "import pims\n",
    "import pandas as pd\n",
    "\n",
    "matplotlib.rcParams['mathtext.fontset'] = 'stix'\n",
    "matplotlib.rcParams['font.family'] = 'STIXGeneral'\n",
    "matplotlib.rcParams['font.size'] = 19\n",
    "\n",
    "# import matplotlib.pyplot as plt\n",
    "# from numba import njit\n",
    "\n",
    "import os\n",
    "import subprocess"
   ]
  },
  {
   "cell_type": "code",
   "execution_count": 13,
   "metadata": {},
   "outputs": [],
   "source": [
    "def read_dat_file(filename):\n",
    "    params = {}\n",
    "    \n",
    "    # Read the .dat file\n",
    "    with open(filename, 'r') as file:\n",
    "        for line in file:\n",
    "            key, value = line.split()\n",
    "            params[key] = value\n",
    "    \n",
    "    # Format the output string\n",
    "    output_string = (\n",
    "        f\"particle_positions_Dt_{params['Dt']}_Nparticles_{params['Nparticles']}_R_{params['R']}_T_{params['T']}_Vo_{params['Vo']}_aligstr_{params['aligstr']}_box_{params['box']}_cutoff_{params['cutoff']}_epsilon_{params['epsilon']}_eta_{params['eta']}_sigma_{params['sigma']}\"\n",
    "    )\n",
    "    \n",
    "    return output_string,params\n"
   ]
  },
  {
   "cell_type": "code",
   "execution_count": 14,
   "metadata": {},
   "outputs": [],
   "source": [
    "def read_dat_file_OP(filename):\n",
    "    params = {}\n",
    "    \n",
    "    # Read the .dat file\n",
    "    with open(filename, 'r') as file:\n",
    "        for line in file:\n",
    "            key, value = line.split()\n",
    "            params[key] = value\n",
    "    \n",
    "    # Format the output string\n",
    "    output_string = (\n",
    "        f\"squared_disp_Dt_{params['Dt']}_Nparticles_{params['Nparticles']}_R_{params['R']}_T_{params['T']}_Vo_{params['Vo']}_aligstr_{params['aligstr']}_box_{params['box']}_cutoff_{params['cutoff']}_epsilon_{params['epsilon']}_eta_{params['eta']}_sigma_{params['sigma']}\"\n",
    "    )\n",
    "    \n",
    "    return output_string"
   ]
  },
  {
   "cell_type": "code",
   "execution_count": 15,
   "metadata": {},
   "outputs": [],
   "source": [
    "\n",
    "def read_positions(filename,N):\n",
    "    data= np.loadtxt(filename)\n",
    "    X = data[:,0]\n",
    "    Y = data[:,1]\n",
    "    Theta = data[:,2]\n",
    "    Steps = len(X) //N \n",
    "    X = np.reshape(X,(Steps,N))\n",
    "    Y = np.reshape(Y,(Steps,N))\n",
    "    Theta = np.reshape(Theta,(Steps,N))\n",
    "    return X,Y,Theta\n"
   ]
  },
  {
   "cell_type": "code",
   "execution_count": 19,
   "metadata": {},
   "outputs": [
    {
     "data": {
      "text/plain": [
       "CompletedProcess(args='mv *Dt_0.1_Nparticles_1000_R_1_T_10000_Vo_1_aligstr_1_box_5_cutoff_0.5_epsilon_0.1_eta_0.5_sigma_0.5.dat particle_positions_Dt_0.1_Nparticles_1000_R_1_T_10000_Vo_1_aligstr_1_box_5_cutoff_0.5_epsilon_0.1_eta_0.5_sigma_0.5', returncode=0)"
      ]
     },
     "execution_count": 19,
     "metadata": {},
     "output_type": "execute_result"
    }
   ],
   "source": [
    "\n",
    "\n",
    "file_name,params = read_dat_file('params.dat')\n",
    "OP_str = read_dat_file_OP('params.dat')\n",
    "os.makedirs(file_name,exist_ok=True)\n",
    "# file_name = file_name+'.dat'\n",
    "# OP_str=OP_str+'.dat'\n",
    "N=int(params['Nparticles'])\n",
    "T = int(params['T'])\n",
    "\n",
    "command = f\"mv *{file_name[19:]}.dat {file_name}\"\n",
    "subprocess.run(command,shell=True)"
   ]
  },
  {
   "cell_type": "code",
   "execution_count": 23,
   "metadata": {},
   "outputs": [
    {
     "name": "stderr",
     "output_type": "stream",
     "text": [
      "ffmpeg version 4.4.2-0ubuntu0.22.04.1 Copyright (c) 2000-2021 the FFmpeg developers\n",
      "  built with gcc 11 (Ubuntu 11.2.0-19ubuntu1)\n",
      "  configuration: --prefix=/usr --extra-version=0ubuntu0.22.04.1 --toolchain=hardened --libdir=/usr/lib/x86_64-linux-gnu --incdir=/usr/include/x86_64-linux-gnu --arch=amd64 --enable-gpl --disable-stripping --enable-gnutls --enable-ladspa --enable-libaom --enable-libass --enable-libbluray --enable-libbs2b --enable-libcaca --enable-libcdio --enable-libcodec2 --enable-libdav1d --enable-libflite --enable-libfontconfig --enable-libfreetype --enable-libfribidi --enable-libgme --enable-libgsm --enable-libjack --enable-libmp3lame --enable-libmysofa --enable-libopenjpeg --enable-libopenmpt --enable-libopus --enable-libpulse --enable-librabbitmq --enable-librubberband --enable-libshine --enable-libsnappy --enable-libsoxr --enable-libspeex --enable-libsrt --enable-libssh --enable-libtheora --enable-libtwolame --enable-libvidstab --enable-libvorbis --enable-libvpx --enable-libwebp --enable-libx265 --enable-libxml2 --enable-libxvid --enable-libzimg --enable-libzmq --enable-libzvbi --enable-lv2 --enable-omx --enable-openal --enable-opencl --enable-opengl --enable-sdl2 --enable-pocketsphinx --enable-librsvg --enable-libmfx --enable-libdc1394 --enable-libdrm --enable-libiec61883 --enable-chromaprint --enable-frei0r --enable-libx264 --enable-shared\n",
      "  libavutil      56. 70.100 / 56. 70.100\n",
      "  libavcodec     58.134.100 / 58.134.100\n",
      "  libavformat    58. 76.100 / 58. 76.100\n",
      "  libavdevice    58. 13.100 / 58. 13.100\n",
      "  libavfilter     7.110.100 /  7.110.100\n",
      "  libswscale      5.  9.100 /  5.  9.100\n",
      "  libswresample   3.  9.100 /  3.  9.100\n",
      "  libpostproc    55.  9.100 / 55.  9.100\n",
      "[image2 @ 0x582050792740] Could find no file with path 'particle_positions_Dt_0.1_Nparticles_1000_R_1_T_10000_Vo_1_aligstr_1_box_5_cutoff_0.5_epsilon_0.1_eta_0.5_sigma_0.5/positions_%03d.png' and index in the range 9700-9704\n",
      "particle_positions_Dt_0.1_Nparticles_1000_R_1_T_10000_Vo_1_aligstr_1_box_5_cutoff_0.5_epsilon_0.1_eta_0.5_sigma_0.5/positions_%03d.png: No such file or directory\n"
     ]
    },
    {
     "data": {
      "text/plain": [
       "CompletedProcess(args=\"ffmpeg -r 15 -start_number 9700 -i 'particle_positions_Dt_0.1_Nparticles_1000_R_1_T_10000_Vo_1_aligstr_1_box_5_cutoff_0.5_epsilon_0.1_eta_0.5_sigma_0.5/positions_%03d.png' -pix_fmt yuv420p particle_positions_Dt_0.1_Nparticles_1000_R_1_T_10000_Vo_1_aligstr_1_box_5_cutoff_0.5_epsilon_0.1_eta_0.5_sigma_0.5/movie_only_arrows.mp4\", returncode=1)"
      ]
     },
     "execution_count": 23,
     "metadata": {},
     "output_type": "execute_result"
    }
   ],
   "source": [
    "\n",
    "# file_name = f'particle_positions_Dt_0.1_Nparticles_100_T_100_Vo_1_aligstr_0.5_box_80_cutoff_0.5_epsilon_0.5_eta_0.8_sigma_1'\n",
    "\n",
    "\n",
    "X,Y,Theta = read_positions(f'{file_name}/'+file_name+'.dat',N)\n",
    "fig, ax1 = plt.subplots(figsize=(5,5))  \n",
    "BOX_SIZE = float(params['box'])\n",
    "max_x = X.max()\n",
    "max_y = Y.max()\n",
    "scale = BOX_SIZE*0.024\n",
    "\n",
    "# x,y = [], []\n",
    "fr= 0\n",
    "for time in range(1000,2000,10):\n",
    "    ax1.clear()\n",
    "    Xnow = X[time]\n",
    "    Ynow = Y[time]\n",
    "    Thetanow=Theta[time]\n",
    "    # print(Thetanow)\n",
    "    # Xnext = X[time+1]\n",
    "    # Ynext = Y[time+1]\n",
    "    # Xp_now = Xp[time]\n",
    "    # Yp_now = Yp[time]\n",
    "    for posx, posy,angle in zip(Xnow, Ynow,Thetanow):\n",
    "        # lx= abs(-dx + posx)\n",
    "        # ly = abs(-dy + posy)\n",
    "        dx = np.cos(angle)*scale\n",
    "        dy = np.sin(angle)*scale\n",
    "        \n",
    "        ax1.arrow(posx, posy, dx, dy, head_width=0.01*BOX_SIZE, head_length=0.01*BOX_SIZE,color='black')\n",
    "        # ax1.add_patch(plt.Circle((posx, posy), radius=sigma, fill=True,color='red'))\n",
    "        \n",
    "        # if lx >= BOX_SIZE/2 or ly >= BOX_SIZE/2:\n",
    "        #     ax1.plot(posx,posy,lw=0,marker='o',ms=0.01)\n",
    "        # else:\n",
    "        #     ax1.plot(np.array([posx,dx]),np.array([posy,dy]))\n",
    "        \n",
    "        \n",
    "        ax1.set_title(f'time {time}',fontsize=12,loc='left')\n",
    "        \n",
    "    ax1.set_xlim(0,BOX_SIZE)\n",
    "    ax1.set_ylim(0,BOX_SIZE)\n",
    "    # ax1.set_xticks([0,BOX_SIZE//2, BOX_SIZE])\n",
    "    # ax1.set_yticks([0,BOX_SIZE//2, BOX_SIZE])\n",
    "    ax1.set_xticks([])\n",
    "    ax1.set_yticks([])\n",
    "    # ax1.set_xlabel(r'$x$')\n",
    "    \n",
    "    # ax1.set_ylabel(r'$y$')\n",
    "    # ax1.set_aspect('equal', adjustable='box')\n",
    "    plt.tight_layout()\n",
    "    plt.savefig(f\"{file_name}/positions_{fr:03d}.png\",dpi=200)\n",
    "    fr += 1\n",
    "plt.close()\n",
    "\n",
    "\n",
    "command = f\"ffmpeg -r 15 -start_number {T-300} -i '{file_name}/positions_%03d.png' -pix_fmt yuv420p {file_name}/movie_only_arrows.mp4\"\n",
    "subprocess.run(command, shell=True)\n"
   ]
  },
  {
   "cell_type": "code",
   "execution_count": 17,
   "metadata": {},
   "outputs": [
    {
     "data": {
      "text/plain": [
       "5.0"
      ]
     },
     "execution_count": 17,
     "metadata": {},
     "output_type": "execute_result"
    }
   ],
   "source": [
    "BOX_SIZE"
   ]
  },
  {
   "cell_type": "code",
   "execution_count": 20,
   "metadata": {},
   "outputs": [
    {
     "data": {
      "image/png": "[encoded data removed]",
      "text/plain": [
       "<Figure size 640x480 with 1 Axes>"
      ]
     },
     "metadata": {},
     "output_type": "display_data"
    }
   ],
   "source": [
    "\n",
    "# OP_str = read_dat_file_OP('params.dat')\n",
    "datamsd=np.loadtxt(f'{file_name}/'+OP_str+'.dat')\n",
    "time = datamsd[:,0]\n",
    "sq_p = datamsd[:,1]\n",
    "fig,ax = plt.subplots()\n",
    "\n",
    "ax.plot(time,sq_p, lw=1.1, color='red')\n",
    "ax.set_xlabel('time')\n",
    "ax.set_ylabel(r'$|\\overrightarrow{P}|$')\n",
    "# ax.legend()\n",
    "# ax.loglog()\n",
    "# ax.set_ylim((0,2.5))\n",
    "plt.tight_layout()\n",
    "plt.savefig(f'{file_name}/OP_vs_time.png',dpi=200,bbox_inches=\"tight\")\n",
    "plt.savefig(f'{file_name}/OP_vs_time.pdf',dpi=200,bbox_inches=\"tight\")\n",
    "plt.show()"
   ]
  },
  {
   "cell_type": "code",
   "execution_count": null,
   "metadata": {},
   "outputs": [],
   "source": []
  }
 ],
 "metadata": {
  "kernelspec": {
   "display_name": "Python 3",
   "language": "python",
   "name": "python3"
  },
  "language_info": {
   "codemirror_mode": {
    "name": "ipython",
    "version": 3
   },
   "file_extension": ".py",
   "mimetype": "text/x-python",
   "name": "python",
   "nbconvert_exporter": "python",
   "pygments_lexer": "ipython3",
   "version": "3.10.12"
  }
 },
 "nbformat": 4,
 "nbformat_minor": 2
}
